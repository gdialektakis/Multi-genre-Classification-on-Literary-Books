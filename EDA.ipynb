{
 "cells": [
  {
   "cell_type": "code",
   "execution_count": 1,
   "metadata": {},
   "outputs": [],
   "source": [
    "import collections\n",
    "import matplotlib.pyplot as plt\n",
    "from data.data_loader import read_goodreads_10k"
   ]
  },
  {
   "cell_type": "code",
   "execution_count": 2,
   "metadata": {},
   "outputs": [],
   "source": [
    "books_df = read_goodreads_10k()"
   ]
  },
  {
   "cell_type": "markdown",
   "metadata": {},
   "source": [
    "### Label distribution"
   ]
  },
  {
   "cell_type": "code",
   "execution_count": null,
   "metadata": {},
   "outputs": [],
   "source": [
    "labels_to_show = 50\n",
    "\n",
    "all_genre_counter = dict(collections.Counter(books_df['genres_list'].sum()))\n",
    "primary_genre_counter =  dict(collections.Counter(books_df['primary_genres_list'].sum()))\n",
    "\n",
    "print('There are {} different genres and {} different primary genres'.format(len(all_genre_counter), len(primary_genre_counter)))\n",
    "\n",
    "all_genre_counter = dict(sorted(all_genre_counter.items(), key=lambda item: item[1], reverse=True)[:labels_to_show])\n",
    "primary_genre_counter = dict(sorted(primary_genre_counter.items(), key=lambda item: item[1], reverse=True)[:labels_to_show])\n",
    "\n",
    "fig = plt.figure(constrained_layout=True, figsize=(20,12))\n",
    "gs = fig.add_gridspec(2, 2)\n",
    "\n",
    "fig.suptitle('Top {} genres'.format(labels_to_show), fontsize=16)\n",
    "\n",
    "ax1 = fig.add_subplot(gs[:, 0])\n",
    "ax1.title.set_text('All genres distribution')\n",
    "ax1.set_ylabel('Genre')\n",
    "ax1.set_xlabel('Frequency')\n",
    "plt.barh(list(all_genre_counter.keys()), list(all_genre_counter.values()))\n",
    "\n",
    "ax2 = fig.add_subplot(gs[:, 1])\n",
    "ax2.title.set_text('Primary genres distribution')\n",
    "ax2.set_ylabel('Genre')\n",
    "ax2.set_xlabel('Frequency')\n",
    "plt.barh(list(primary_genre_counter.keys()), list(primary_genre_counter.values()))\n",
    "\n",
    "plt.show()"
   ]
  },
  {
   "cell_type": "markdown",
   "metadata": {},
   "source": [
    "### Genre distribution per book"
   ]
  },
  {
   "cell_type": "code",
   "execution_count": null,
   "metadata": {},
   "outputs": [],
   "source": [
    "all_genre_per_book = books_df.apply(lambda book: len(book['genres_list']), axis=1).tolist()\n",
    "primary_genre_per_book = books_df.apply(lambda book: len(book['primary_genres_list']), axis=1).tolist()\n",
    "\n",
    "all_genre_per_book_counter = dict(collections.Counter(all_genre_per_book))\n",
    "all_genre_per_book_counter = dict(sorted(all_genre_per_book_counter.items(), key=lambda item: item[0]))\n",
    "\n",
    "primary_genre_per_book_counter = dict(collections.Counter(primary_genre_per_book))\n",
    "primary_genre_per_book_counter = dict(sorted(primary_genre_per_book_counter.items(), key=lambda item: item[0]))\n",
    "\n",
    "\n",
    "fig = plt.figure(constrained_layout=True, figsize=(16,12))\n",
    "gs = fig.add_gridspec(2, 2)\n",
    "\n",
    "ax1 = fig.add_subplot(gs[0, :])\n",
    "ax1.title.set_text('All genres distribution per book')\n",
    "ax1.set_xlabel('Number of genres')\n",
    "ax1.set_ylabel('Frequency')\n",
    "plt.xticks(rotation=90)\n",
    "plt.bar(list(map(str, all_genre_per_book_counter.keys())), list(all_genre_per_book_counter.values()))\n",
    "\n",
    "ax2 = fig.add_subplot(gs[1, :])\n",
    "ax2.title.set_text('Primary genres distribution per book')\n",
    "ax2.set_xlabel('Number of genres')\n",
    "ax2.set_ylabel('Frequency')\n",
    "plt.xticks(rotation=90)\n",
    "plt.bar(list(map(str, primary_genre_per_book_counter.keys())), list(primary_genre_per_book_counter.values()))\n",
    "\n",
    "plt.show()"
   ]
  },
  {
   "cell_type": "code",
   "execution_count": null,
   "metadata": {},
   "outputs": [],
   "source": [
    "authors_to_show = 100\n",
    "\n",
    "author_counter = dict(collections.Counter(books_df['author_name']))\n",
    "print('There {} unique authors'.format(len(list(author_counter.keys()))))\n",
    "\n",
    "author_counter = dict(sorted(author_counter.items(), key=lambda item: item[1], reverse=True)[:authors_to_show])\n",
    "\n",
    "fig = plt.figure(figsize=(24,10))\n",
    "\n",
    "plt.title('Top {} authors with most books'.format(authors_to_show))\n",
    "plt.xlabel('Author')\n",
    "plt.ylabel('Books written')\n",
    "plt.xticks(rotation=90)\n",
    "plt.bar(list(author_counter.keys()), list(author_counter.values()))\n",
    "\n",
    "plt.show()"
   ]
  },
  {
   "cell_type": "markdown",
   "metadata": {},
   "source": [
    "### Description Length Distribution"
   ]
  },
  {
   "cell_type": "code",
   "execution_count": null,
   "metadata": {},
   "outputs": [],
   "source": [
    "books_df['description_length'].hist(bins=100, figsize=(16, 8))\n",
    "plt.title('Description length distribution'.format(authors_to_show))\n",
    "plt.xlabel('Description length')\n",
    "plt.ylabel('Frequency');"
   ]
  },
  {
   "cell_type": "markdown",
   "metadata": {},
   "source": [
    "# TODO\n",
    "#### distribution of authors per genre or genre per author\n",
    "#### word clouds for top n authors and genres\n",
    "#### description length per genre and or author"
   ]
  },
  {
   "cell_type": "code",
   "execution_count": null,
   "metadata": {},
   "outputs": [],
   "source": []
  }
 ],
 "metadata": {
  "kernelspec": {
   "display_name": "Python 3",
   "language": "python",
   "name": "python3"
  },
  "language_info": {
   "codemirror_mode": {
    "name": "ipython",
    "version": 3
   },
   "file_extension": ".py",
   "mimetype": "text/x-python",
   "name": "python",
   "nbconvert_exporter": "python",
   "pygments_lexer": "ipython3",
   "version": "3.8.5"
  }
 },
 "nbformat": 4,
 "nbformat_minor": 4
}
