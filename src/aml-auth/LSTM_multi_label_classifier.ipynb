{
 "cells": [
  {
   "cell_type": "markdown",
   "metadata": {
    "id": "BGBzqyVJX8OC"
   },
   "source": [
    "## Multi label text classification using Bi-LSTM NNs\n",
    "This notebook can be uploaded to Google colab and run it as it is. It will clone the project and get into the apporiate directory to train and predict"
   ]
  },
  {
   "cell_type": "markdown",
   "metadata": {
    "id": "ManozDjaQ2ip"
   },
   "source": [
    "### Check if target machine is colab\n",
    "#### In case it is on colab clone project"
   ]
  },
  {
   "cell_type": "code",
   "execution_count": 1,
   "metadata": {
    "colab": {
     "base_uri": "https://localhost:8080/"
    },
    "id": "3Ggfg5sQQ2iw",
    "outputId": "d98421d2-f7da-4b24-926c-adf362f4ce1e"
   },
   "outputs": [
    {
     "name": "stdout",
     "output_type": "stream",
     "text": [
      "User name: ZisisFl\n",
      "Password: ··········\n",
      "Cloning into 'AdvancedML-Auth'...\n",
      "remote: Enumerating objects: 403, done.\u001b[K\n",
      "remote: Counting objects: 100% (403/403), done.\u001b[K\n",
      "remote: Compressing objects: 100% (239/239), done.\u001b[K\n",
      "remote: Total 403 (delta 211), reused 285 (delta 109), pack-reused 0\u001b[K\n",
      "Receiving objects: 100% (403/403), 7.45 MiB | 17.91 MiB/s, done.\n",
      "Resolving deltas: 100% (211/211), done.\n",
      "/content/AdvancedML-Auth/src/aml-auth\n"
     ]
    }
   ],
   "source": [
    "try:\n",
    "    import google.colab\n",
    "    RunningInCOLAB = True\n",
    "except:\n",
    "    RunningInCOLAB = False\n",
    "\n",
    "if RunningInCOLAB:\n",
    "    from getpass import getpass\n",
    "    import urllib\n",
    "\n",
    "    user = input('User name: ')\n",
    "    password = getpass('Password: ')\n",
    "    password = urllib.parse.quote(password) # your password is converted into url format\n",
    "    AUTHENTICATION = '{}:{}'.format(user, password)\n",
    "\n",
    "    !git clone https://$AUTHENTICATION@github.com/georgSquared/AdvancedML-Auth.git\n",
    "    AUTHENTICATION = '' # remove authentication variable\n",
    "    \n",
    "    %cd AdvancedML-Auth/src/aml-auth"
   ]
  },
  {
   "cell_type": "markdown",
   "metadata": {
    "id": "y-OnpSykQ2ix"
   },
   "source": [
    "### Import libraries"
   ]
  },
  {
   "cell_type": "code",
   "execution_count": 2,
   "metadata": {
    "colab": {
     "base_uri": "https://localhost:8080/"
    },
    "id": "_yJmIgg0Q2iy",
    "outputId": "ff304a88-5713-4974-9c7b-d2428e0ae947"
   },
   "outputs": [
    {
     "name": "stdout",
     "output_type": "stream",
     "text": [
      "[nltk_data] Downloading package stopwords to /root/nltk_data...\n",
      "[nltk_data]   Unzipping corpora/stopwords.zip.\n"
     ]
    }
   ],
   "source": [
    "import tensorflow as tf\n",
    "import tensorflow_addons as tfa\n",
    "import pandas as pd\n",
    "import numpy as np\n",
    "import matplotlib.pyplot as plt\n",
    "\n",
    "from sklearn.metrics import accuracy_score\n",
    "\n",
    "from tensorflow.keras.callbacks import EarlyStopping\n",
    "\n",
    "from tensorflow.keras.preprocessing.text import Tokenizer\n",
    "from tensorflow.keras.preprocessing.sequence import pad_sequences\n",
    "\n",
    "from tensorflow.keras.models import Sequential\n",
    "from tensorflow.keras.layers import Dense, LSTM, Bidirectional, Embedding, Dropout, Flatten\n",
    "from keras.layers.convolutional import Conv1D, MaxPooling1D\n",
    "\n",
    "from data_processing import get_fully_processed, get_selected_genres\n",
    "from evaluation import evaluate_model, evaluate_per_label"
   ]
  },
  {
   "cell_type": "code",
   "execution_count": 3,
   "metadata": {
    "colab": {
     "base_uri": "https://localhost:8080/"
    },
    "id": "etwP1YitQ2i0",
    "outputId": "47db3210-96bb-426c-d73b-4eafdadd6d9f"
   },
   "outputs": [
    {
     "name": "stdout",
     "output_type": "stream",
     "text": [
      "Num GPUs Available:  1\n"
     ]
    }
   ],
   "source": [
    "# check if GPU is available\n",
    "print(\"Num GPUs Available: \", len(tf.config.experimental.list_physical_devices('GPU')))"
   ]
  },
  {
   "cell_type": "markdown",
   "metadata": {
    "id": "tEP_VXx6Q2i1"
   },
   "source": [
    "### Load data"
   ]
  },
  {
   "cell_type": "code",
   "execution_count": 4,
   "metadata": {
    "colab": {
     "base_uri": "https://localhost:8080/"
    },
    "id": "uO6MrGi4Q2i1",
    "outputId": "4c8bcf16-d8c9-47f5-813f-8ac53ba5b21d"
   },
   "outputs": [
    {
     "name": "stdout",
     "output_type": "stream",
     "text": [
      "12458 books with 9 labels\n"
     ]
    }
   ],
   "source": [
    "books_df, genres_to_predict = get_fully_processed(genres_list=get_selected_genres(), multilabel=True)\n",
    "books = books_df['book_description_processed'].values\n",
    "labels = books_df[genres_to_predict].values\n",
    "\n",
    "print('{} books with {} labels'.format(labels.shape[0], labels.shape[1]))"
   ]
  },
  {
   "cell_type": "markdown",
   "metadata": {
    "id": "siauDyV_Q2i2"
   },
   "source": [
    "### Prepare sequences for training"
   ]
  },
  {
   "cell_type": "code",
   "execution_count": 5,
   "metadata": {
    "colab": {
     "base_uri": "https://localhost:8080/"
    },
    "id": "clgWv4A4Q2i2",
    "outputId": "a58fc4b2-3fa4-4e79-9e63-c224570243e6"
   },
   "outputs": [
    {
     "name": "stdout",
     "output_type": "stream",
     "text": [
      "Found 45305 unique tokens.\n",
      "Shape of data tensor: (12458, 768)\n",
      "Shape of label tensor: (12458, 9)\n"
     ]
    }
   ],
   "source": [
    "# tokenize book descriptions with tensorflow's tokenizer\n",
    "tokenizer = Tokenizer()\n",
    "tokenizer.fit_on_texts(books)\n",
    "\n",
    "# create sequences out of book descriptions\n",
    "sequences = tokenizer.texts_to_sequences(books)\n",
    "\n",
    "# get maximum book description length in order to pad sequences to that length\n",
    "max_length = max([len(s.split()) for s in books])\n",
    "\n",
    "# define vocab size\n",
    "word_index = tokenizer.word_index\n",
    "vocabulary_size = len(word_index)\n",
    "print('Found %s unique tokens.' % vocabulary_size)\n",
    "\n",
    "# pad sequences\n",
    "data = pad_sequences(sequences, maxlen=max_length, padding='post')\n",
    "\n",
    "print('Shape of data tensor:', data.shape)\n",
    "print('Shape of label tensor:', labels.shape)"
   ]
  },
  {
   "cell_type": "markdown",
   "metadata": {
    "id": "KKKJ1_QZQ2i3"
   },
   "source": [
    "### Split train test sets"
   ]
  },
  {
   "cell_type": "code",
   "execution_count": 6,
   "metadata": {
    "colab": {
     "base_uri": "https://localhost:8080/"
    },
    "id": "SYx3uLV6Q2i4",
    "outputId": "66f4b038-5d34-499c-f398-33182aa32b1e"
   },
   "outputs": [
    {
     "name": "stdout",
     "output_type": "stream",
     "text": [
      "Train Shapes - X: (9344, 768) - Y: (9344, 9)\n",
      "Val Shapes - X: (3114, 768) - Y: (3114, 9)\n"
     ]
    }
   ],
   "source": [
    "indices = np.arange(data.shape[0])\n",
    "\n",
    "# shuffle indices\n",
    "np.random.shuffle(indices)\n",
    "data = data[indices]\n",
    "labels = labels[indices]\n",
    "\n",
    "# number of validation samples\n",
    "validation_samples = int(0.25 * data.shape[0])\n",
    "\n",
    "# split to train and test sets\n",
    "x_train = data[:-validation_samples]\n",
    "y_train = labels[:-validation_samples]\n",
    "x_val = data[-validation_samples:]\n",
    "y_val = labels[-validation_samples:]\n",
    "\n",
    "print(\"Train Shapes - X: {} - Y: {}\".format(x_train.shape, y_train.shape))\n",
    "print(\"Val Shapes - X: {} - Y: {}\".format(x_val.shape, y_val.shape))"
   ]
  },
  {
   "cell_type": "code",
   "execution_count": 26,
   "metadata": {
    "id": "PxJ7uYCCQ2i5"
   },
   "outputs": [],
   "source": [
    "def plot_training_history(history):\n",
    "    # summarize history for hamming_loss\n",
    "    plt.figure(figsize=(16,8))\n",
    "    plt.plot(history.history['hamming_loss'])\n",
    "    plt.plot(history.history['val_hamming_loss'])\n",
    "    plt.title('model hamming_loss')\n",
    "    plt.ylabel('hamming_loss')\n",
    "    plt.xlabel('epoch')\n",
    "    plt.legend(['train', 'test'], loc='upper left')\n",
    "    plt.show()\n",
    "    \n",
    "    # summarize history for loss\n",
    "    plt.figure(figsize=(16,8))\n",
    "    plt.plot(history.history['loss'])\n",
    "    plt.plot(history.history['val_loss'])\n",
    "    plt.title('model loss')\n",
    "    plt.ylabel('loss')\n",
    "    plt.xlabel('epoch')\n",
    "    plt.legend(['train', 'test'], loc='upper left')\n",
    "    plt.show()"
   ]
  },
  {
   "cell_type": "markdown",
   "metadata": {
    "id": "1NhtqimjQ2i6"
   },
   "source": [
    "### Model"
   ]
  },
  {
   "cell_type": "code",
   "execution_count": 27,
   "metadata": {
    "colab": {
     "base_uri": "https://localhost:8080/"
    },
    "id": "PHgQeNg5Q2i6",
    "outputId": "5b833cec-0df8-4cca-f85a-7b28c3d518e4"
   },
   "outputs": [
    {
     "name": "stdout",
     "output_type": "stream",
     "text": [
      "Model: \"sequential_3\"\n",
      "_________________________________________________________________\n",
      "Layer (type)                 Output Shape              Param #   \n",
      "=================================================================\n",
      "embedding_3 (Embedding)      (None, 768, 100)          4530600   \n",
      "_________________________________________________________________\n",
      "bidirectional_3 (Bidirection (None, 200)               160800    \n",
      "_________________________________________________________________\n",
      "dropout_3 (Dropout)          (None, 200)               0         \n",
      "_________________________________________________________________\n",
      "dense_3 (Dense)              (None, 9)                 1809      \n",
      "=================================================================\n",
      "Total params: 4,693,209\n",
      "Trainable params: 4,693,209\n",
      "Non-trainable params: 0\n",
      "_________________________________________________________________\n",
      "Epoch 1/20\n",
      "292/292 [==============================] - 28s 87ms/step - loss: 0.4916 - hamming_loss: 0.2342 - val_loss: 0.4310 - val_hamming_loss: 0.2237\n",
      "Epoch 2/20\n",
      "292/292 [==============================] - 41s 141ms/step - loss: 0.3920 - hamming_loss: 0.2042 - val_loss: 0.3919 - val_hamming_loss: 0.1961\n",
      "Epoch 3/20\n",
      "292/292 [==============================] - 25s 85ms/step - loss: 0.3061 - hamming_loss: 0.1656 - val_loss: 0.3264 - val_hamming_loss: 0.1610\n",
      "Epoch 4/20\n",
      "292/292 [==============================] - 25s 85ms/step - loss: 0.2423 - hamming_loss: 0.1313 - val_loss: 0.2923 - val_hamming_loss: 0.1498\n",
      "Epoch 5/20\n",
      "292/292 [==============================] - 25s 85ms/step - loss: 0.1936 - hamming_loss: 0.1050 - val_loss: 0.2872 - val_hamming_loss: 0.1319\n",
      "Epoch 6/20\n",
      "292/292 [==============================] - 25s 85ms/step - loss: 0.1557 - hamming_loss: 0.0838 - val_loss: 0.2885 - val_hamming_loss: 0.1146\n",
      "Epoch 7/20\n",
      "292/292 [==============================] - 25s 85ms/step - loss: 0.1248 - hamming_loss: 0.0660 - val_loss: 0.2876 - val_hamming_loss: 0.1064\n",
      "Epoch 8/20\n",
      "292/292 [==============================] - 25s 85ms/step - loss: 0.0999 - hamming_loss: 0.0510 - val_loss: 0.3024 - val_hamming_loss: 0.1028\n",
      "Epoch 9/20\n",
      "292/292 [==============================] - 25s 85ms/step - loss: 0.0785 - hamming_loss: 0.0398 - val_loss: 0.3074 - val_hamming_loss: 0.0971\n",
      "Epoch 10/20\n",
      "292/292 [==============================] - 25s 85ms/step - loss: 0.0616 - hamming_loss: 0.0301 - val_loss: 0.3403 - val_hamming_loss: 0.0952\n",
      "Epoch 11/20\n",
      "292/292 [==============================] - 25s 85ms/step - loss: 0.0486 - hamming_loss: 0.0232 - val_loss: 0.3592 - val_hamming_loss: 0.0953\n",
      "Epoch 12/20\n",
      "292/292 [==============================] - 25s 85ms/step - loss: 0.0421 - hamming_loss: 0.0198 - val_loss: 0.3675 - val_hamming_loss: 0.0923\n",
      "Epoch 13/20\n",
      "292/292 [==============================] - 25s 85ms/step - loss: 0.0334 - hamming_loss: 0.0155 - val_loss: 0.3916 - val_hamming_loss: 0.0953\n",
      "Epoch 14/20\n",
      "292/292 [==============================] - 25s 85ms/step - loss: 0.0270 - hamming_loss: 0.0126 - val_loss: 0.4036 - val_hamming_loss: 0.0910\n",
      "Epoch 15/20\n",
      "292/292 [==============================] - 25s 85ms/step - loss: 0.0221 - hamming_loss: 0.0100 - val_loss: 0.4192 - val_hamming_loss: 0.0913\n",
      "Epoch 16/20\n",
      "292/292 [==============================] - 25s 85ms/step - loss: 0.0199 - hamming_loss: 0.0091 - val_loss: 0.4189 - val_hamming_loss: 0.0919\n",
      "Epoch 17/20\n",
      "292/292 [==============================] - 25s 85ms/step - loss: 0.0160 - hamming_loss: 0.0073 - val_loss: 0.4598 - val_hamming_loss: 0.0936\n",
      "Epoch 18/20\n",
      "292/292 [==============================] - 25s 85ms/step - loss: 0.0150 - hamming_loss: 0.0064 - val_loss: 0.4605 - val_hamming_loss: 0.0912\n",
      "Epoch 19/20\n",
      "292/292 [==============================] - 25s 85ms/step - loss: 0.0128 - hamming_loss: 0.0054 - val_loss: 0.4795 - val_hamming_loss: 0.0927\n",
      "Epoch 20/20\n",
      "292/292 [==============================] - 25s 87ms/step - loss: 0.0118 - hamming_loss: 0.0050 - val_loss: 0.4768 - val_hamming_loss: 0.0937\n"
     ]
    }
   ],
   "source": [
    "# set up early stopping callback\n",
    "callback = EarlyStopping(monitor='loss', patience=2)\n",
    "\n",
    "# init hamming loss a metric\n",
    "hl = tfa.metrics.HammingLoss(mode='multilabel', threshold=0.8)\n",
    "\n",
    "with tf.device('/device:GPU:0'):\n",
    "    model = Sequential()\n",
    "    model.add(Embedding(input_dim=vocabulary_size+1,\n",
    "                        output_dim=100,\n",
    "                        input_length=max_length))\n",
    "    model.add(Bidirectional(LSTM(100)))\n",
    "    model.add(Dropout(0.4))\n",
    "    model.add(Dense(len(genres_to_predict), activation='sigmoid'))\n",
    "\n",
    "    model.compile(optimizer='rmsprop', loss='binary_crossentropy', metrics=[hl])\n",
    "    model.summary()\n",
    "\n",
    "    history = model.fit(x_train, y_train, batch_size=32, epochs=20, validation_data=(x_val, y_val), verbose=1)"
   ]
  },
  {
   "cell_type": "code",
   "execution_count": 28,
   "metadata": {
    "colab": {
     "base_uri": "https://localhost:8080/",
     "height": 1000
    },
    "id": "4CkrOJBSQ2i9",
    "outputId": "57889449-c6be-4db2-cf60-d66c8f705dc9"
   },
   "outputs": [
    {
     "data": {
      "image/png": "[encoded data removed]",
      "text/plain": [
       "<Figure size 1152x576 with 1 Axes>"
      ]
     },
     "metadata": {
      "needs_background": "light",
      "tags": []
     },
     "output_type": "display_data"
    },
    {
     "data": {
      "image/png": "[encoded data removed]",
      "text/plain": [
       "<Figure size 1152x576 with 1 Axes>"
      ]
     },
     "metadata": {
      "needs_background": "light",
      "tags": []
     },
     "output_type": "display_data"
    }
   ],
   "source": [
    "plot_training_history(history)"
   ]
  },
  {
   "cell_type": "markdown",
   "metadata": {
    "id": "-90UxHxqQ2i-"
   },
   "source": [
    "### Predict and evaluate"
   ]
  },
  {
   "cell_type": "code",
   "execution_count": 29,
   "metadata": {
    "colab": {
     "base_uri": "https://localhost:8080/"
    },
    "id": "DnQ_zBdgQ2i_",
    "outputId": "892b4051-1232-488d-f1ca-c27b87741877"
   },
   "outputs": [
    {
     "name": "stdout",
     "output_type": "stream",
     "text": [
      "Accuracy score: 0.5385\n",
      "Precision score: 0.7945 with average parameter: micro\n",
      "Recall score: 0.7985 with average parameter: micro\n",
      "F1 score: 0.7965 with average parameter: micro\n",
      "Hamming loss: 0.0972\n",
      "Classification report:\n",
      "              precision    recall  f1-score   support\n",
      "\n",
      "           0       0.92      0.80      0.86      1110\n",
      "           1       0.70      0.77      0.73      1026\n",
      "           2       0.81      0.83      0.82       964\n",
      "           3       0.88      0.87      0.88       806\n",
      "           4       0.76      0.83      0.80       644\n",
      "           5       0.67      0.68      0.68       582\n",
      "           6       0.72      0.77      0.74       532\n",
      "           7       0.79      0.80      0.80       525\n",
      "           8       0.87      0.79      0.83       486\n",
      "\n",
      "   micro avg       0.79      0.80      0.80      6675\n",
      "   macro avg       0.79      0.79      0.79      6675\n",
      "weighted avg       0.80      0.80      0.80      6675\n",
      " samples avg       0.79      0.80      0.77      6675\n",
      "\n"
     ]
    },
    {
     "name": "stderr",
     "output_type": "stream",
     "text": [
      "/usr/local/lib/python3.7/dist-packages/sklearn/metrics/_classification.py:1272: UndefinedMetricWarning: Precision and F-score are ill-defined and being set to 0.0 in samples with no predicted labels. Use `zero_division` parameter to control this behavior.\n",
      "  _warn_prf(average, modifier, msg_start, len(result))\n"
     ]
    }
   ],
   "source": [
    "# get predictions\n",
    "y_pred = model.predict(x_val)\n",
    "\n",
    "# round probabilities to get vector of labels\n",
    "y_pred = y_pred.round()\n",
    "\n",
    "# evaluate model\n",
    "evaluate_model(y_val, y_pred, print_results=True);\n",
    "\n",
    "#evaluate_per_label(pd.DataFrame(y_val), y_pred, print_results=True)"
   ]
  }
 ],
 "metadata": {
  "accelerator": "GPU",
  "colab": {
   "name": "LSTM_multi_label_classifier.ipynb",
   "provenance": [],
   "toc_visible": true
  },
  "kernelspec": {
   "display_name": "Python 3",
   "language": "python",
   "name": "python3"
  },
  "language_info": {
   "codemirror_mode": {
    "name": "ipython",
    "version": 3
   },
   "file_extension": ".py",
   "mimetype": "text/x-python",
   "name": "python",
   "nbconvert_exporter": "python",
   "pygments_lexer": "ipython3",
   "version": "3.8.5"
  }
 },
 "nbformat": 4,
 "nbformat_minor": 4
}
